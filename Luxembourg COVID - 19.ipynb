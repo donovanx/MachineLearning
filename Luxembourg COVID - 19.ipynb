{
 "cells": [
  {
   "cell_type": "code",
   "execution_count": 1,
   "metadata": {},
   "outputs": [],
   "source": [
    "import pandas as pd\n",
    "import numpy as np\n",
    "import matplotlib.pyplot as plt"
   ]
  },
  {
   "cell_type": "code",
   "execution_count": 2,
   "metadata": {},
   "outputs": [],
   "source": [
    "data = pd.read_csv(r'C:\\Users\\cabra\\Documents\\Machine Learning\\time_series_covid19_confirmed_global.csv.txt')\n",
    "data_1 = pd.read_csv(r'C:\\Users\\cabra\\Documents\\Machine Learning\\time_series_covid19_deaths_global.csv.txt')\n"
   ]
  },
  {
   "cell_type": "code",
   "execution_count": 3,
   "metadata": {},
   "outputs": [
    {
     "data": {
      "text/html": [
       "<div>\n",
       "<style scoped>\n",
       "    .dataframe tbody tr th:only-of-type {\n",
       "        vertical-align: middle;\n",
       "    }\n",
       "\n",
       "    .dataframe tbody tr th {\n",
       "        vertical-align: top;\n",
       "    }\n",
       "\n",
       "    .dataframe thead th {\n",
       "        text-align: right;\n",
       "    }\n",
       "</style>\n",
       "<table border=\"1\" class=\"dataframe\">\n",
       "  <thead>\n",
       "    <tr style=\"text-align: right;\">\n",
       "      <th></th>\n",
       "      <th>0</th>\n",
       "      <th>1</th>\n",
       "      <th>2</th>\n",
       "      <th>3</th>\n",
       "      <th>4</th>\n",
       "      <th>5</th>\n",
       "      <th>6</th>\n",
       "      <th>7</th>\n",
       "      <th>8</th>\n",
       "      <th>9</th>\n",
       "      <th>...</th>\n",
       "      <th>256</th>\n",
       "      <th>257</th>\n",
       "      <th>258</th>\n",
       "      <th>259</th>\n",
       "      <th>260</th>\n",
       "      <th>261</th>\n",
       "      <th>262</th>\n",
       "      <th>263</th>\n",
       "      <th>264</th>\n",
       "      <th>265</th>\n",
       "    </tr>\n",
       "  </thead>\n",
       "  <tbody>\n",
       "    <tr>\n",
       "      <th>Province/State</th>\n",
       "      <td>NaN</td>\n",
       "      <td>NaN</td>\n",
       "      <td>NaN</td>\n",
       "      <td>NaN</td>\n",
       "      <td>NaN</td>\n",
       "      <td>NaN</td>\n",
       "      <td>NaN</td>\n",
       "      <td>NaN</td>\n",
       "      <td>Australian Capital Territory</td>\n",
       "      <td>New South Wales</td>\n",
       "      <td>...</td>\n",
       "      <td>NaN</td>\n",
       "      <td>Falkland Islands (Malvinas)</td>\n",
       "      <td>Saint Pierre and Miquelon</td>\n",
       "      <td>NaN</td>\n",
       "      <td>NaN</td>\n",
       "      <td>NaN</td>\n",
       "      <td>NaN</td>\n",
       "      <td>NaN</td>\n",
       "      <td>NaN</td>\n",
       "      <td>NaN</td>\n",
       "    </tr>\n",
       "    <tr>\n",
       "      <th>Country/Region</th>\n",
       "      <td>Afghanistan</td>\n",
       "      <td>Albania</td>\n",
       "      <td>Algeria</td>\n",
       "      <td>Andorra</td>\n",
       "      <td>Angola</td>\n",
       "      <td>Antigua and Barbuda</td>\n",
       "      <td>Argentina</td>\n",
       "      <td>Armenia</td>\n",
       "      <td>Australia</td>\n",
       "      <td>Australia</td>\n",
       "      <td>...</td>\n",
       "      <td>Malawi</td>\n",
       "      <td>United Kingdom</td>\n",
       "      <td>France</td>\n",
       "      <td>South Sudan</td>\n",
       "      <td>Western Sahara</td>\n",
       "      <td>Sao Tome and Principe</td>\n",
       "      <td>Yemen</td>\n",
       "      <td>Comoros</td>\n",
       "      <td>Tajikistan</td>\n",
       "      <td>Lesotho</td>\n",
       "    </tr>\n",
       "    <tr>\n",
       "      <th>Lat</th>\n",
       "      <td>33</td>\n",
       "      <td>41.1533</td>\n",
       "      <td>28.0339</td>\n",
       "      <td>42.5063</td>\n",
       "      <td>-11.2027</td>\n",
       "      <td>17.0608</td>\n",
       "      <td>-38.4161</td>\n",
       "      <td>40.0691</td>\n",
       "      <td>-35.4735</td>\n",
       "      <td>-33.8688</td>\n",
       "      <td>...</td>\n",
       "      <td>-13.2543</td>\n",
       "      <td>-51.7963</td>\n",
       "      <td>46.8852</td>\n",
       "      <td>6.877</td>\n",
       "      <td>24.2155</td>\n",
       "      <td>0.18636</td>\n",
       "      <td>15.5527</td>\n",
       "      <td>-11.6455</td>\n",
       "      <td>38.861</td>\n",
       "      <td>-29.61</td>\n",
       "    </tr>\n",
       "    <tr>\n",
       "      <th>Long</th>\n",
       "      <td>65</td>\n",
       "      <td>20.1683</td>\n",
       "      <td>1.6596</td>\n",
       "      <td>1.5218</td>\n",
       "      <td>17.8739</td>\n",
       "      <td>-61.7964</td>\n",
       "      <td>-63.6167</td>\n",
       "      <td>45.0382</td>\n",
       "      <td>149.012</td>\n",
       "      <td>151.209</td>\n",
       "      <td>...</td>\n",
       "      <td>34.3015</td>\n",
       "      <td>-59.5236</td>\n",
       "      <td>-56.3159</td>\n",
       "      <td>31.307</td>\n",
       "      <td>-12.8858</td>\n",
       "      <td>6.61308</td>\n",
       "      <td>48.5164</td>\n",
       "      <td>43.3333</td>\n",
       "      <td>71.2761</td>\n",
       "      <td>28.2336</td>\n",
       "    </tr>\n",
       "    <tr>\n",
       "      <th>1/22/20</th>\n",
       "      <td>0</td>\n",
       "      <td>0</td>\n",
       "      <td>0</td>\n",
       "      <td>0</td>\n",
       "      <td>0</td>\n",
       "      <td>0</td>\n",
       "      <td>0</td>\n",
       "      <td>0</td>\n",
       "      <td>0</td>\n",
       "      <td>0</td>\n",
       "      <td>...</td>\n",
       "      <td>0</td>\n",
       "      <td>0</td>\n",
       "      <td>0</td>\n",
       "      <td>0</td>\n",
       "      <td>0</td>\n",
       "      <td>0</td>\n",
       "      <td>0</td>\n",
       "      <td>0</td>\n",
       "      <td>0</td>\n",
       "      <td>0</td>\n",
       "    </tr>\n",
       "    <tr>\n",
       "      <th>...</th>\n",
       "      <td>...</td>\n",
       "      <td>...</td>\n",
       "      <td>...</td>\n",
       "      <td>...</td>\n",
       "      <td>...</td>\n",
       "      <td>...</td>\n",
       "      <td>...</td>\n",
       "      <td>...</td>\n",
       "      <td>...</td>\n",
       "      <td>...</td>\n",
       "      <td>...</td>\n",
       "      <td>...</td>\n",
       "      <td>...</td>\n",
       "      <td>...</td>\n",
       "      <td>...</td>\n",
       "      <td>...</td>\n",
       "      <td>...</td>\n",
       "      <td>...</td>\n",
       "      <td>...</td>\n",
       "      <td>...</td>\n",
       "      <td>...</td>\n",
       "    </tr>\n",
       "    <tr>\n",
       "      <th>5/11/20</th>\n",
       "      <td>4687</td>\n",
       "      <td>872</td>\n",
       "      <td>5891</td>\n",
       "      <td>755</td>\n",
       "      <td>45</td>\n",
       "      <td>25</td>\n",
       "      <td>6278</td>\n",
       "      <td>3392</td>\n",
       "      <td>107</td>\n",
       "      <td>3053</td>\n",
       "      <td>...</td>\n",
       "      <td>57</td>\n",
       "      <td>13</td>\n",
       "      <td>1</td>\n",
       "      <td>156</td>\n",
       "      <td>6</td>\n",
       "      <td>208</td>\n",
       "      <td>56</td>\n",
       "      <td>11</td>\n",
       "      <td>661</td>\n",
       "      <td>0</td>\n",
       "    </tr>\n",
       "    <tr>\n",
       "      <th>5/12/20</th>\n",
       "      <td>4963</td>\n",
       "      <td>876</td>\n",
       "      <td>6067</td>\n",
       "      <td>758</td>\n",
       "      <td>45</td>\n",
       "      <td>25</td>\n",
       "      <td>6563</td>\n",
       "      <td>3538</td>\n",
       "      <td>107</td>\n",
       "      <td>3059</td>\n",
       "      <td>...</td>\n",
       "      <td>57</td>\n",
       "      <td>13</td>\n",
       "      <td>1</td>\n",
       "      <td>194</td>\n",
       "      <td>6</td>\n",
       "      <td>208</td>\n",
       "      <td>65</td>\n",
       "      <td>11</td>\n",
       "      <td>729</td>\n",
       "      <td>0</td>\n",
       "    </tr>\n",
       "    <tr>\n",
       "      <th>5/13/20</th>\n",
       "      <td>5226</td>\n",
       "      <td>880</td>\n",
       "      <td>6253</td>\n",
       "      <td>760</td>\n",
       "      <td>45</td>\n",
       "      <td>25</td>\n",
       "      <td>6879</td>\n",
       "      <td>3718</td>\n",
       "      <td>107</td>\n",
       "      <td>3063</td>\n",
       "      <td>...</td>\n",
       "      <td>63</td>\n",
       "      <td>13</td>\n",
       "      <td>1</td>\n",
       "      <td>203</td>\n",
       "      <td>6</td>\n",
       "      <td>220</td>\n",
       "      <td>70</td>\n",
       "      <td>11</td>\n",
       "      <td>801</td>\n",
       "      <td>1</td>\n",
       "    </tr>\n",
       "    <tr>\n",
       "      <th>5/14/20</th>\n",
       "      <td>5639</td>\n",
       "      <td>898</td>\n",
       "      <td>6442</td>\n",
       "      <td>761</td>\n",
       "      <td>48</td>\n",
       "      <td>25</td>\n",
       "      <td>7134</td>\n",
       "      <td>3860</td>\n",
       "      <td>107</td>\n",
       "      <td>3071</td>\n",
       "      <td>...</td>\n",
       "      <td>63</td>\n",
       "      <td>13</td>\n",
       "      <td>1</td>\n",
       "      <td>203</td>\n",
       "      <td>6</td>\n",
       "      <td>235</td>\n",
       "      <td>85</td>\n",
       "      <td>11</td>\n",
       "      <td>907</td>\n",
       "      <td>1</td>\n",
       "    </tr>\n",
       "    <tr>\n",
       "      <th>5/15/20</th>\n",
       "      <td>6053</td>\n",
       "      <td>916</td>\n",
       "      <td>6629</td>\n",
       "      <td>761</td>\n",
       "      <td>48</td>\n",
       "      <td>25</td>\n",
       "      <td>7479</td>\n",
       "      <td>4044</td>\n",
       "      <td>107</td>\n",
       "      <td>3074</td>\n",
       "      <td>...</td>\n",
       "      <td>63</td>\n",
       "      <td>13</td>\n",
       "      <td>1</td>\n",
       "      <td>236</td>\n",
       "      <td>6</td>\n",
       "      <td>235</td>\n",
       "      <td>106</td>\n",
       "      <td>11</td>\n",
       "      <td>1118</td>\n",
       "      <td>1</td>\n",
       "    </tr>\n",
       "  </tbody>\n",
       "</table>\n",
       "<p>119 rows × 266 columns</p>\n",
       "</div>"
      ],
      "text/plain": [
       "                        0        1        2        3        4    \\\n",
       "Province/State          NaN      NaN      NaN      NaN      NaN   \n",
       "Country/Region  Afghanistan  Albania  Algeria  Andorra   Angola   \n",
       "Lat                      33  41.1533  28.0339  42.5063 -11.2027   \n",
       "Long                     65  20.1683   1.6596   1.5218  17.8739   \n",
       "1/22/20                   0        0        0        0        0   \n",
       "...                     ...      ...      ...      ...      ...   \n",
       "5/11/20                4687      872     5891      755       45   \n",
       "5/12/20                4963      876     6067      758       45   \n",
       "5/13/20                5226      880     6253      760       45   \n",
       "5/14/20                5639      898     6442      761       48   \n",
       "5/15/20                6053      916     6629      761       48   \n",
       "\n",
       "                                5          6        7    \\\n",
       "Province/State                  NaN        NaN      NaN   \n",
       "Country/Region  Antigua and Barbuda  Argentina  Armenia   \n",
       "Lat                         17.0608   -38.4161  40.0691   \n",
       "Long                       -61.7964   -63.6167  45.0382   \n",
       "1/22/20                           0          0        0   \n",
       "...                             ...        ...      ...   \n",
       "5/11/20                          25       6278     3392   \n",
       "5/12/20                          25       6563     3538   \n",
       "5/13/20                          25       6879     3718   \n",
       "5/14/20                          25       7134     3860   \n",
       "5/15/20                          25       7479     4044   \n",
       "\n",
       "                                         8                9    ...      256  \\\n",
       "Province/State  Australian Capital Territory  New South Wales  ...      NaN   \n",
       "Country/Region                     Australia        Australia  ...   Malawi   \n",
       "Lat                                 -35.4735         -33.8688  ... -13.2543   \n",
       "Long                                 149.012          151.209  ...  34.3015   \n",
       "1/22/20                                    0                0  ...        0   \n",
       "...                                      ...              ...  ...      ...   \n",
       "5/11/20                                  107             3053  ...       57   \n",
       "5/12/20                                  107             3059  ...       57   \n",
       "5/13/20                                  107             3063  ...       63   \n",
       "5/14/20                                  107             3071  ...       63   \n",
       "5/15/20                                  107             3074  ...       63   \n",
       "\n",
       "                                        257                        258  \\\n",
       "Province/State  Falkland Islands (Malvinas)  Saint Pierre and Miquelon   \n",
       "Country/Region               United Kingdom                     France   \n",
       "Lat                                -51.7963                    46.8852   \n",
       "Long                               -59.5236                   -56.3159   \n",
       "1/22/20                                   0                          0   \n",
       "...                                     ...                        ...   \n",
       "5/11/20                                  13                          1   \n",
       "5/12/20                                  13                          1   \n",
       "5/13/20                                  13                          1   \n",
       "5/14/20                                  13                          1   \n",
       "5/15/20                                  13                          1   \n",
       "\n",
       "                        259             260                    261      262  \\\n",
       "Province/State          NaN             NaN                    NaN      NaN   \n",
       "Country/Region  South Sudan  Western Sahara  Sao Tome and Principe    Yemen   \n",
       "Lat                   6.877         24.2155                0.18636  15.5527   \n",
       "Long                 31.307        -12.8858                6.61308  48.5164   \n",
       "1/22/20                   0               0                      0        0   \n",
       "...                     ...             ...                    ...      ...   \n",
       "5/11/20                 156               6                    208       56   \n",
       "5/12/20                 194               6                    208       65   \n",
       "5/13/20                 203               6                    220       70   \n",
       "5/14/20                 203               6                    235       85   \n",
       "5/15/20                 236               6                    235      106   \n",
       "\n",
       "                    263         264      265  \n",
       "Province/State      NaN         NaN      NaN  \n",
       "Country/Region  Comoros  Tajikistan  Lesotho  \n",
       "Lat            -11.6455      38.861   -29.61  \n",
       "Long            43.3333     71.2761  28.2336  \n",
       "1/22/20               0           0        0  \n",
       "...                 ...         ...      ...  \n",
       "5/11/20              11         661        0  \n",
       "5/12/20              11         729        0  \n",
       "5/13/20              11         801        1  \n",
       "5/14/20              11         907        1  \n",
       "5/15/20              11        1118        1  \n",
       "\n",
       "[119 rows x 266 columns]"
      ]
     },
     "execution_count": 3,
     "metadata": {},
     "output_type": "execute_result"
    }
   ],
   "source": [
    "data.transpose()"
   ]
  },
  {
   "cell_type": "code",
   "execution_count": 4,
   "metadata": {},
   "outputs": [
    {
     "data": {
      "text/html": [
       "<div>\n",
       "<style scoped>\n",
       "    .dataframe tbody tr th:only-of-type {\n",
       "        vertical-align: middle;\n",
       "    }\n",
       "\n",
       "    .dataframe tbody tr th {\n",
       "        vertical-align: top;\n",
       "    }\n",
       "\n",
       "    .dataframe thead th {\n",
       "        text-align: right;\n",
       "    }\n",
       "</style>\n",
       "<table border=\"1\" class=\"dataframe\">\n",
       "  <thead>\n",
       "    <tr style=\"text-align: right;\">\n",
       "      <th></th>\n",
       "      <th>Province/State</th>\n",
       "      <th>Country/Region</th>\n",
       "      <th>Lat</th>\n",
       "      <th>Long</th>\n",
       "      <th>1/22/20</th>\n",
       "      <th>1/23/20</th>\n",
       "      <th>1/24/20</th>\n",
       "      <th>1/25/20</th>\n",
       "      <th>1/26/20</th>\n",
       "      <th>1/27/20</th>\n",
       "      <th>...</th>\n",
       "      <th>5/6/20</th>\n",
       "      <th>5/7/20</th>\n",
       "      <th>5/8/20</th>\n",
       "      <th>5/9/20</th>\n",
       "      <th>5/10/20</th>\n",
       "      <th>5/11/20</th>\n",
       "      <th>5/12/20</th>\n",
       "      <th>5/13/20</th>\n",
       "      <th>5/14/20</th>\n",
       "      <th>5/15/20</th>\n",
       "    </tr>\n",
       "  </thead>\n",
       "  <tbody>\n",
       "    <tr>\n",
       "      <th>0</th>\n",
       "      <td>NaN</td>\n",
       "      <td>Afghanistan</td>\n",
       "      <td>33.0000</td>\n",
       "      <td>65.0000</td>\n",
       "      <td>0</td>\n",
       "      <td>0</td>\n",
       "      <td>0</td>\n",
       "      <td>0</td>\n",
       "      <td>0</td>\n",
       "      <td>0</td>\n",
       "      <td>...</td>\n",
       "      <td>3392</td>\n",
       "      <td>3563</td>\n",
       "      <td>3778</td>\n",
       "      <td>4033</td>\n",
       "      <td>4402</td>\n",
       "      <td>4687</td>\n",
       "      <td>4963</td>\n",
       "      <td>5226</td>\n",
       "      <td>5639</td>\n",
       "      <td>6053</td>\n",
       "    </tr>\n",
       "    <tr>\n",
       "      <th>1</th>\n",
       "      <td>NaN</td>\n",
       "      <td>Albania</td>\n",
       "      <td>41.1533</td>\n",
       "      <td>20.1683</td>\n",
       "      <td>0</td>\n",
       "      <td>0</td>\n",
       "      <td>0</td>\n",
       "      <td>0</td>\n",
       "      <td>0</td>\n",
       "      <td>0</td>\n",
       "      <td>...</td>\n",
       "      <td>832</td>\n",
       "      <td>842</td>\n",
       "      <td>850</td>\n",
       "      <td>856</td>\n",
       "      <td>868</td>\n",
       "      <td>872</td>\n",
       "      <td>876</td>\n",
       "      <td>880</td>\n",
       "      <td>898</td>\n",
       "      <td>916</td>\n",
       "    </tr>\n",
       "    <tr>\n",
       "      <th>2</th>\n",
       "      <td>NaN</td>\n",
       "      <td>Algeria</td>\n",
       "      <td>28.0339</td>\n",
       "      <td>1.6596</td>\n",
       "      <td>0</td>\n",
       "      <td>0</td>\n",
       "      <td>0</td>\n",
       "      <td>0</td>\n",
       "      <td>0</td>\n",
       "      <td>0</td>\n",
       "      <td>...</td>\n",
       "      <td>4997</td>\n",
       "      <td>5182</td>\n",
       "      <td>5369</td>\n",
       "      <td>5558</td>\n",
       "      <td>5723</td>\n",
       "      <td>5891</td>\n",
       "      <td>6067</td>\n",
       "      <td>6253</td>\n",
       "      <td>6442</td>\n",
       "      <td>6629</td>\n",
       "    </tr>\n",
       "    <tr>\n",
       "      <th>3</th>\n",
       "      <td>NaN</td>\n",
       "      <td>Andorra</td>\n",
       "      <td>42.5063</td>\n",
       "      <td>1.5218</td>\n",
       "      <td>0</td>\n",
       "      <td>0</td>\n",
       "      <td>0</td>\n",
       "      <td>0</td>\n",
       "      <td>0</td>\n",
       "      <td>0</td>\n",
       "      <td>...</td>\n",
       "      <td>751</td>\n",
       "      <td>752</td>\n",
       "      <td>752</td>\n",
       "      <td>754</td>\n",
       "      <td>755</td>\n",
       "      <td>755</td>\n",
       "      <td>758</td>\n",
       "      <td>760</td>\n",
       "      <td>761</td>\n",
       "      <td>761</td>\n",
       "    </tr>\n",
       "    <tr>\n",
       "      <th>4</th>\n",
       "      <td>NaN</td>\n",
       "      <td>Angola</td>\n",
       "      <td>-11.2027</td>\n",
       "      <td>17.8739</td>\n",
       "      <td>0</td>\n",
       "      <td>0</td>\n",
       "      <td>0</td>\n",
       "      <td>0</td>\n",
       "      <td>0</td>\n",
       "      <td>0</td>\n",
       "      <td>...</td>\n",
       "      <td>36</td>\n",
       "      <td>36</td>\n",
       "      <td>43</td>\n",
       "      <td>43</td>\n",
       "      <td>45</td>\n",
       "      <td>45</td>\n",
       "      <td>45</td>\n",
       "      <td>45</td>\n",
       "      <td>48</td>\n",
       "      <td>48</td>\n",
       "    </tr>\n",
       "  </tbody>\n",
       "</table>\n",
       "<p>5 rows × 119 columns</p>\n",
       "</div>"
      ],
      "text/plain": [
       "  Province/State Country/Region      Lat     Long  1/22/20  1/23/20  1/24/20  \\\n",
       "0            NaN    Afghanistan  33.0000  65.0000        0        0        0   \n",
       "1            NaN        Albania  41.1533  20.1683        0        0        0   \n",
       "2            NaN        Algeria  28.0339   1.6596        0        0        0   \n",
       "3            NaN        Andorra  42.5063   1.5218        0        0        0   \n",
       "4            NaN         Angola -11.2027  17.8739        0        0        0   \n",
       "\n",
       "   1/25/20  1/26/20  1/27/20  ...  5/6/20  5/7/20  5/8/20  5/9/20  5/10/20  \\\n",
       "0        0        0        0  ...    3392    3563    3778    4033     4402   \n",
       "1        0        0        0  ...     832     842     850     856      868   \n",
       "2        0        0        0  ...    4997    5182    5369    5558     5723   \n",
       "3        0        0        0  ...     751     752     752     754      755   \n",
       "4        0        0        0  ...      36      36      43      43       45   \n",
       "\n",
       "   5/11/20  5/12/20  5/13/20  5/14/20  5/15/20  \n",
       "0     4687     4963     5226     5639     6053  \n",
       "1      872      876      880      898      916  \n",
       "2     5891     6067     6253     6442     6629  \n",
       "3      755      758      760      761      761  \n",
       "4       45       45       45       48       48  \n",
       "\n",
       "[5 rows x 119 columns]"
      ]
     },
     "execution_count": 4,
     "metadata": {},
     "output_type": "execute_result"
    }
   ],
   "source": [
    "data.head()"
   ]
  },
  {
   "cell_type": "code",
   "execution_count": 5,
   "metadata": {},
   "outputs": [],
   "source": [
    "data = data.drop(columns = ['Province/State', 'Lat', 'Long'],axis = 1)"
   ]
  },
  {
   "cell_type": "code",
   "execution_count": 6,
   "metadata": {},
   "outputs": [],
   "source": [
    "df = data.copy()"
   ]
  },
  {
   "cell_type": "code",
   "execution_count": 7,
   "metadata": {},
   "outputs": [],
   "source": [
    "lux = df[df['Country/Region'] == 'Luxembourg'].transpose()"
   ]
  },
  {
   "cell_type": "code",
   "execution_count": 8,
   "metadata": {},
   "outputs": [],
   "source": [
    "lux = lux.iloc[1:]"
   ]
  },
  {
   "cell_type": "code",
   "execution_count": 9,
   "metadata": {},
   "outputs": [],
   "source": [
    "lux = lux.rename(columns = {151: 'Number of Cases'})"
   ]
  },
  {
   "cell_type": "code",
   "execution_count": 10,
   "metadata": {},
   "outputs": [],
   "source": [
    "lux.index = pd.to_datetime(lux.index)"
   ]
  },
  {
   "cell_type": "code",
   "execution_count": 11,
   "metadata": {},
   "outputs": [],
   "source": [
    "lux.index.freq = 'D'"
   ]
  },
  {
   "cell_type": "code",
   "execution_count": 12,
   "metadata": {},
   "outputs": [
    {
     "data": {
      "text/html": [
       "<div>\n",
       "<style scoped>\n",
       "    .dataframe tbody tr th:only-of-type {\n",
       "        vertical-align: middle;\n",
       "    }\n",
       "\n",
       "    .dataframe tbody tr th {\n",
       "        vertical-align: top;\n",
       "    }\n",
       "\n",
       "    .dataframe thead th {\n",
       "        text-align: right;\n",
       "    }\n",
       "</style>\n",
       "<table border=\"1\" class=\"dataframe\">\n",
       "  <thead>\n",
       "    <tr style=\"text-align: right;\">\n",
       "      <th></th>\n",
       "      <th>Number of Cases</th>\n",
       "    </tr>\n",
       "  </thead>\n",
       "  <tbody>\n",
       "    <tr>\n",
       "      <th>2020-01-22</th>\n",
       "      <td>0</td>\n",
       "    </tr>\n",
       "    <tr>\n",
       "      <th>2020-01-23</th>\n",
       "      <td>0</td>\n",
       "    </tr>\n",
       "    <tr>\n",
       "      <th>2020-01-24</th>\n",
       "      <td>0</td>\n",
       "    </tr>\n",
       "    <tr>\n",
       "      <th>2020-01-25</th>\n",
       "      <td>0</td>\n",
       "    </tr>\n",
       "    <tr>\n",
       "      <th>2020-01-26</th>\n",
       "      <td>0</td>\n",
       "    </tr>\n",
       "    <tr>\n",
       "      <th>...</th>\n",
       "      <td>...</td>\n",
       "    </tr>\n",
       "    <tr>\n",
       "      <th>2020-05-11</th>\n",
       "      <td>3888</td>\n",
       "    </tr>\n",
       "    <tr>\n",
       "      <th>2020-05-12</th>\n",
       "      <td>3894</td>\n",
       "    </tr>\n",
       "    <tr>\n",
       "      <th>2020-05-13</th>\n",
       "      <td>3904</td>\n",
       "    </tr>\n",
       "    <tr>\n",
       "      <th>2020-05-14</th>\n",
       "      <td>3915</td>\n",
       "    </tr>\n",
       "    <tr>\n",
       "      <th>2020-05-15</th>\n",
       "      <td>3923</td>\n",
       "    </tr>\n",
       "  </tbody>\n",
       "</table>\n",
       "<p>115 rows × 1 columns</p>\n",
       "</div>"
      ],
      "text/plain": [
       "           Number of Cases\n",
       "2020-01-22               0\n",
       "2020-01-23               0\n",
       "2020-01-24               0\n",
       "2020-01-25               0\n",
       "2020-01-26               0\n",
       "...                    ...\n",
       "2020-05-11            3888\n",
       "2020-05-12            3894\n",
       "2020-05-13            3904\n",
       "2020-05-14            3915\n",
       "2020-05-15            3923\n",
       "\n",
       "[115 rows x 1 columns]"
      ]
     },
     "execution_count": 12,
     "metadata": {},
     "output_type": "execute_result"
    }
   ],
   "source": [
    "lux"
   ]
  },
  {
   "cell_type": "code",
   "execution_count": 13,
   "metadata": {},
   "outputs": [],
   "source": [
    "from pylab import rcParams\n",
    "rcParams['figure.figsize'] = 12,7"
   ]
  },
  {
   "cell_type": "code",
   "execution_count": 14,
   "metadata": {},
   "outputs": [
    {
     "data": {
      "text/plain": [
       "<matplotlib.axes._subplots.AxesSubplot at 0x26e724e0e48>"
      ]
     },
     "execution_count": 14,
     "metadata": {},
     "output_type": "execute_result"
    },
    {
     "data": {
      "image/png": "[encoded data removed]",
      "text/plain": [
       "<Figure size 864x504 with 1 Axes>"
      ]
     },
     "metadata": {
      "needs_background": "light"
     },
     "output_type": "display_data"
    }
   ],
   "source": [
    "lux.plot(legend = True)"
   ]
  },
  {
   "cell_type": "code",
   "execution_count": 15,
   "metadata": {},
   "outputs": [],
   "source": [
    "from statsmodels.tsa.stattools import adfuller"
   ]
  },
  {
   "cell_type": "code",
   "execution_count": 16,
   "metadata": {},
   "outputs": [],
   "source": [
    "def adf_test(series,title=''):\n",
    "    \"\"\"\n",
    "    Pass in a time series and an optional title, returns an ADF report\n",
    "    \"\"\"\n",
    "    print(f'Augmented Dickey-Fuller Test: {title}')\n",
    "    result = adfuller(series.dropna(),autolag='AIC') # .dropna() handles differenced data\n",
    "    \n",
    "    labels = ['ADF test statistic','p-value','# lags used','# observations']\n",
    "    out = pd.Series(result[0:4],index=labels)\n",
    "\n",
    "    for key,val in result[4].items():\n",
    "        out[f'critical value ({key})']=val\n",
    "        \n",
    "    print(out.to_string())          # .to_string() removes the line \"dtype: float64\"\n",
    "    print()\n",
    "    if result[1] <= 0.05:\n",
    "        print(\"Strong evidence against the null hypothesis\")\n",
    "        print(\"Reject the null hypothesis\")\n",
    "        print(\"Data has no unit root and is stationary\")\n",
    "    else:\n",
    "        print(\"Weak evidence against the null hypothesis\")\n",
    "        print(\"Fail to reject the null hypothesis\")\n",
    "        print(\"Data has a unit root and is non-stationary\")"
   ]
  },
  {
   "cell_type": "code",
   "execution_count": 17,
   "metadata": {},
   "outputs": [
    {
     "name": "stdout",
     "output_type": "stream",
     "text": [
      "Augmented Dickey-Fuller Test: \n",
      "ADF test statistic       -0.787852\n",
      "p-value                   0.822664\n",
      "# lags used              13.000000\n",
      "# observations          101.000000\n",
      "critical value (1%)      -3.496818\n",
      "critical value (5%)      -2.890611\n",
      "critical value (10%)     -2.582277\n",
      "\n",
      "Weak evidence against the null hypothesis\n",
      "Fail to reject the null hypothesis\n",
      "Data has a unit root and is non-stationary\n"
     ]
    }
   ],
   "source": [
    "adf_test(lux['Number of Cases'])"
   ]
  },
  {
   "cell_type": "code",
   "execution_count": 18,
   "metadata": {},
   "outputs": [],
   "source": [
    "data_1 = data_1.drop(columns = ['Province/State', 'Lat', 'Long'], axis = 1)"
   ]
  },
  {
   "cell_type": "code",
   "execution_count": 19,
   "metadata": {},
   "outputs": [],
   "source": [
    "lux_death = data_1[data_1['Country/Region'] == 'Luxembourg'].transpose()"
   ]
  },
  {
   "cell_type": "code",
   "execution_count": 23,
   "metadata": {},
   "outputs": [],
   "source": [
    "lux_death = lux_death[1:]"
   ]
  },
  {
   "cell_type": "code",
   "execution_count": 24,
   "metadata": {},
   "outputs": [],
   "source": [
    "lux_death = lux_death.rename(columns = {151:'Number of Deaths'})"
   ]
  },
  {
   "cell_type": "code",
   "execution_count": 22,
   "metadata": {},
   "outputs": [],
   "source": [
    "lux_copy = lux.copy()"
   ]
  },
  {
   "cell_type": "code",
   "execution_count": 25,
   "metadata": {},
   "outputs": [],
   "source": [
    "lux_copy = pd.concat([lux_copy,lux_death],1)"
   ]
  },
  {
   "cell_type": "code",
   "execution_count": 27,
   "metadata": {},
   "outputs": [
    {
     "data": {
      "text/plain": [
       "DatetimeIndex(['2020-01-22', '2020-01-23', '2020-01-24', '2020-01-25',\n",
       "               '2020-01-26', '2020-01-27', '2020-01-28', '2020-01-29',\n",
       "               '2020-01-30', '2020-01-31',\n",
       "               ...\n",
       "               '2020-05-06', '2020-05-07', '2020-05-08', '2020-05-09',\n",
       "               '2020-05-10', '2020-05-11', '2020-05-12', '2020-05-13',\n",
       "               '2020-05-14', '2020-05-15'],\n",
       "              dtype='datetime64[ns]', length=115, freq='D')"
      ]
     },
     "execution_count": 27,
     "metadata": {},
     "output_type": "execute_result"
    }
   ],
   "source": [
    "lux_copy.index"
   ]
  },
  {
   "cell_type": "code",
   "execution_count": 28,
   "metadata": {},
   "outputs": [],
   "source": [
    "lux_diff = lux_copy.diff()"
   ]
  },
  {
   "cell_type": "code",
   "execution_count": 29,
   "metadata": {},
   "outputs": [
    {
     "name": "stdout",
     "output_type": "stream",
     "text": [
      "Augmented Dickey-Fuller Test: \n",
      "ADF test statistic       -0.787852\n",
      "p-value                   0.822664\n",
      "# lags used              13.000000\n",
      "# observations          101.000000\n",
      "critical value (1%)      -3.496818\n",
      "critical value (5%)      -2.890611\n",
      "critical value (10%)     -2.582277\n",
      "\n",
      "Weak evidence against the null hypothesis\n",
      "Fail to reject the null hypothesis\n",
      "Data has a unit root and is non-stationary\n",
      "Augmented Dickey-Fuller Test: \n",
      "ADF test statistic       -1.398248\n",
      "p-value                   0.583116\n",
      "# lags used              11.000000\n",
      "# observations          103.000000\n",
      "critical value (1%)      -3.495493\n",
      "critical value (5%)      -2.890037\n",
      "critical value (10%)     -2.581971\n",
      "\n",
      "Weak evidence against the null hypothesis\n",
      "Fail to reject the null hypothesis\n",
      "Data has a unit root and is non-stationary\n"
     ]
    }
   ],
   "source": [
    "adf_test(lux_copy['Number of Cases'])\n",
    "adf_test(lux_copy['Number of Deaths']) #1 difference"
   ]
  },
  {
   "cell_type": "code",
   "execution_count": 36,
   "metadata": {},
   "outputs": [],
   "source": [
    "lux_diff = lux_copy.diff().diff().diff()"
   ]
  },
  {
   "cell_type": "code",
   "execution_count": 38,
   "metadata": {},
   "outputs": [
    {
     "name": "stdout",
     "output_type": "stream",
     "text": [
      "Augmented Dickey-Fuller Test: \n",
      "ADF test statistic     -9.445990e+00\n",
      "p-value                 4.754214e-16\n",
      "# lags used             7.000000e+00\n",
      "# observations          1.040000e+02\n",
      "critical value (1%)    -3.494850e+00\n",
      "critical value (5%)    -2.889758e+00\n",
      "critical value (10%)   -2.581822e+00\n",
      "\n",
      "Strong evidence against the null hypothesis\n",
      "Reject the null hypothesis\n",
      "Data has no unit root and is stationary\n"
     ]
    }
   ],
   "source": [
    "adf_test(lux_diff['Number of Cases'])"
   ]
  },
  {
   "cell_type": "code",
   "execution_count": 39,
   "metadata": {},
   "outputs": [],
   "source": [
    "luxe = lux_copy.copy()"
   ]
  },
  {
   "cell_type": "code",
   "execution_count": 40,
   "metadata": {},
   "outputs": [
    {
     "data": {
      "text/plain": [
       "<matplotlib.axes._subplots.AxesSubplot at 0x26e779a8a08>"
      ]
     },
     "execution_count": 40,
     "metadata": {},
     "output_type": "execute_result"
    },
    {
     "data": {
      "image/png": "[encoded data removed]",
      "text/plain": [
       "<Figure size 864x504 with 1 Axes>"
      ]
     },
     "metadata": {
      "needs_background": "light"
     },
     "output_type": "display_data"
    }
   ],
   "source": [
    "luxe['Number of Cases'].plot()"
   ]
  },
  {
   "cell_type": "code",
   "execution_count": 41,
   "metadata": {},
   "outputs": [
    {
     "data": {
      "text/plain": [
       "<matplotlib.axes._subplots.AxesSubplot at 0x26e77ab4d08>"
      ]
     },
     "execution_count": 41,
     "metadata": {},
     "output_type": "execute_result"
    },
    {
     "data": {
      "image/png": "[encoded data removed]",
      "text/plain": [
       "<Figure size 864x504 with 1 Axes>"
      ]
     },
     "metadata": {
      "needs_background": "light"
     },
     "output_type": "display_data"
    }
   ],
   "source": [
    "luxe['Number of Deaths'].plot()"
   ]
  },
  {
   "cell_type": "code",
   "execution_count": 51,
   "metadata": {},
   "outputs": [],
   "source": [
    "luxe['Number of Cases'] = luxe['Number of Cases'].astype(int)\n",
    "luxe['Number of Deaths'] = luxe['Number of Deaths'].astype(int)"
   ]
  },
  {
   "cell_type": "code",
   "execution_count": 52,
   "metadata": {},
   "outputs": [],
   "source": [
    "from statsmodels.tsa.arima_model import ARIMA"
   ]
  },
  {
   "cell_type": "code",
   "execution_count": 53,
   "metadata": {},
   "outputs": [],
   "source": [
    "import itertools\n",
    "import warnings\n",
    "warnings.filterwarnings('ignore')\n",
    "\n",
    "p = d = q = range(0,5)\n",
    "pdq = list(itertools.product(p,d,q))\n"
   ]
  },
  {
   "cell_type": "code",
   "execution_count": 54,
   "metadata": {
    "scrolled": true
   },
   "outputs": [
    {
     "name": "stdout",
     "output_type": "stream",
     "text": [
      "(0, 0, 0) -- 2036.4419198327444\n",
      "(0, 0, 1) -- 1885.3279161733433\n",
      "(0, 1, 0) -- 1247.5442725684827\n",
      "(0, 1, 1) -- 1166.9607904441887\n",
      "(0, 1, 2) -- 1160.3607304862041\n",
      "(0, 1, 3) -- 1140.4309645383426\n",
      "(0, 1, 4) -- 1118.9323669127834\n",
      "(0, 2, 0) -- 1124.932869143183\n",
      "(0, 2, 1) -- 1102.771352888503\n",
      "(0, 2, 2) -- 1101.6319630020985\n",
      "(0, 2, 3) -- 1087.3659599114221\n",
      "(0, 2, 4) -- 1087.9878719418873\n",
      "(1, 0, 0) -- 1303.4141681536998\n",
      "(1, 1, 0) -- 1126.1489111091669\n",
      "(1, 1, 1) -- 1112.5890507306399\n",
      "(1, 1, 2) -- 1111.58805252833\n",
      "(1, 1, 3) -- 1097.0180449888921\n",
      "(1, 1, 4) -- 1097.0022820316935\n",
      "(1, 2, 0) -- 1118.2838175017212\n",
      "(1, 2, 1) -- 1104.1237979971804\n",
      "(1, 2, 2) -- 1093.7645626106364\n",
      "(1, 2, 3) -- 1086.654906893293\n",
      "(1, 2, 4) -- 1088.4358667688157\n",
      "(2, 0, 0) -- 1152.1075203618398\n",
      "(2, 0, 1) -- 1131.0478221026706\n",
      "(2, 0, 2) -- 1129.6862060804856\n",
      "(2, 0, 3) -- 1115.7238876932643\n",
      "(2, 0, 4) -- 1116.8898408026457\n",
      "(2, 1, 0) -- 1123.6367270389267\n",
      "(2, 1, 1) -- 1113.9999325543922\n",
      "(2, 1, 2) -- 1103.7334335462897\n",
      "(2, 1, 3) -- 1094.5053250547699\n",
      "(2, 1, 4) -- 1096.2029501810052\n",
      "(2, 2, 0) -- 1087.894255744994\n",
      "(2, 2, 1) -- 1089.894204703657\n",
      "(2, 2, 2) -- 1091.8477823581552\n",
      "(2, 2, 3) -- 1092.5502424201277\n",
      "(2, 2, 4) -- 1086.883723079509\n",
      "(3, 0, 0) -- 1147.459504325382\n",
      "(3, 0, 1) -- 1132.3140487672817\n",
      "(3, 0, 2) -- 1121.8225579358293\n",
      "(3, 0, 3) -- 1115.9211041117967\n",
      "(3, 0, 4) -- 1118.05995485416\n",
      "(3, 1, 0) -- 1097.5590229720851\n",
      "(3, 1, 1) -- 1099.5226720331818\n",
      "(3, 1, 2) -- 1100.8526202226349\n",
      "(3, 1, 3) -- 1102.066120275173\n",
      "(3, 1, 4) -- 1096.6615153817907\n",
      "(3, 2, 0) -- 1089.894202186454\n",
      "(3, 2, 1) -- 1091.8923451505068\n",
      "(3, 2, 2) -- 1093.887996027711\n",
      "(3, 2, 3) -- 1094.0458202333937\n",
      "(3, 2, 4) -- 1086.0551195051069\n",
      "(4, 0, 0) -- 1116.5399588981577\n",
      "(4, 0, 1) -- 1118.5123622543063\n",
      "(4, 0, 2) -- 1120.6978108660703\n",
      "(4, 0, 3) -- 1121.1483144947128\n",
      "(4, 0, 4) -- 1114.8799279472018\n",
      "(4, 1, 0) -- 1099.517397081738\n",
      "(4, 1, 1) -- 1096.9365839608627\n",
      "(4, 1, 2) -- 1102.5832226228185\n",
      "(4, 1, 3) -- 1103.6901795969513\n",
      "(4, 1, 4) -- 1101.1817452169048\n",
      "(4, 2, 0) -- 1091.8769513041025\n",
      "(4, 2, 1) -- 1093.8855841026284\n",
      "(4, 2, 2) -- 1085.2317587024152\n",
      "(4, 2, 3) -- 1085.2903481063847\n",
      "(4, 2, 4) -- 1093.3125849433063\n"
     ]
    }
   ],
   "source": [
    "for i in pdq:\n",
    "    try:\n",
    "        c_model = ARIMA(luxe['Number of Cases'], order = i).fit()\n",
    "        print(i,'--',c_model.aic)\n",
    "    except:\n",
    "        continue #4,2,2"
   ]
  },
  {
   "cell_type": "code",
   "execution_count": 55,
   "metadata": {
    "scrolled": true
   },
   "outputs": [
    {
     "name": "stdout",
     "output_type": "stream",
     "text": [
      "(0, 0, 0) -- 1173.32858351597\n",
      "(0, 0, 1) -- 1027.652883109081\n",
      "(0, 1, 0) -- 439.7527973877071\n",
      "(0, 1, 1) -- 432.7832042062081\n",
      "(0, 1, 2) -- 419.3670707848424\n",
      "(0, 1, 3) -- 421.2072899771388\n",
      "(0, 1, 4) -- 421.11491687396574\n",
      "(0, 2, 0) -- 464.3671800953171\n",
      "(0, 2, 1) -- 404.98996920992977\n",
      "(0, 2, 2) -- 406.8522725996841\n",
      "(0, 2, 3) -- 407.5542355805195\n",
      "(0, 2, 4) -- 406.2901131200575\n",
      "(1, 0, 0) -- 494.69183837025145\n",
      "(1, 1, 0) -- 425.9099999859594\n",
      "(1, 1, 1) -- 407.59903234467004\n",
      "(1, 1, 2) -- 409.3794304893655\n",
      "(1, 2, 0) -- 424.480866745727\n",
      "(1, 2, 1) -- 406.81611509963864\n",
      "(1, 2, 2) -- 405.4190588232741\n",
      "(1, 2, 3) -- 405.94003061873656\n",
      "(1, 2, 4) -- 407.5667634507093\n",
      "(2, 0, 0) -- 460.41391964618407\n",
      "(2, 1, 0) -- 413.1812003505958\n",
      "(2, 1, 1) -- 409.3225090356284\n",
      "(2, 2, 0) -- 423.7283468799211\n",
      "(2, 2, 1) -- 407.4465438662315\n",
      "(2, 2, 2) -- 406.1385977409438\n",
      "(2, 2, 3) -- 407.89985053279923\n",
      "(2, 2, 4) -- 408.61574044493733\n",
      "(3, 0, 0) -- 443.92331067693516\n",
      "(3, 1, 0) -- 415.1011422655661\n",
      "(3, 1, 1) -- 410.0891337938539\n",
      "(3, 1, 2) -- 408.78550383689407\n",
      "(3, 2, 0) -- 413.0930200504638\n",
      "(3, 2, 1) -- 405.73529446409157\n",
      "(3, 2, 2) -- 407.573792502754\n",
      "(3, 2, 3) -- 405.75009386300934\n",
      "(3, 2, 4) -- 404.8142401152729\n",
      "(4, 0, 0) -- 442.51891463631046\n",
      "(4, 1, 0) -- 410.31264128093903\n",
      "(4, 1, 1) -- 408.149516786778\n",
      "(4, 1, 2) -- 410.0694260217635\n",
      "(4, 1, 3) -- 409.04386794298415\n",
      "(4, 1, 4) -- 407.0550664147837\n",
      "(4, 2, 0) -- 410.04758426529366\n",
      "(4, 2, 1) -- 407.5419161382804\n"
     ]
    }
   ],
   "source": [
    "for i in pdq:\n",
    "    try:\n",
    "        c_model = ARIMA(luxe['Number of Deaths'], order = i).fit()\n",
    "        print(i,'--',c_model.aic)\n",
    "    except:\n",
    "        continue #3,2,4"
   ]
  },
  {
   "cell_type": "code",
   "execution_count": 60,
   "metadata": {},
   "outputs": [
    {
     "data": {
      "text/plain": [
       "87"
      ]
     },
     "execution_count": 60,
     "metadata": {},
     "output_type": "execute_result"
    }
   ],
   "source": [
    "luxe.shape[0] -28"
   ]
  },
  {
   "cell_type": "markdown",
   "metadata": {},
   "source": [
    "# Model "
   ]
  },
  {
   "cell_type": "code",
   "execution_count": 88,
   "metadata": {},
   "outputs": [],
   "source": [
    "train = luxe[:-21]\n",
    "test = luxe[-21:]"
   ]
  },
  {
   "cell_type": "code",
   "execution_count": 89,
   "metadata": {},
   "outputs": [
    {
     "data": {
      "text/plain": [
       "2020-01-22       0\n",
       "2020-01-23       0\n",
       "2020-01-24       0\n",
       "2020-01-25       0\n",
       "2020-01-26       0\n",
       "              ... \n",
       "2020-04-20    3558\n",
       "2020-04-21    3618\n",
       "2020-04-22    3654\n",
       "2020-04-23    3665\n",
       "2020-04-24    3695\n",
       "Freq: D, Name: Number of Cases, Length: 94, dtype: int32"
      ]
     },
     "execution_count": 89,
     "metadata": {},
     "output_type": "execute_result"
    }
   ],
   "source": [
    "train['Number of Cases']"
   ]
  },
  {
   "cell_type": "markdown",
   "metadata": {},
   "source": [
    "### Cases Prediction Model"
   ]
  },
  {
   "cell_type": "code",
   "execution_count": 90,
   "metadata": {},
   "outputs": [],
   "source": [
    "train_model = ARIMA(train['Number of Cases'], order = (4,2,2)).fit()"
   ]
  },
  {
   "cell_type": "code",
   "execution_count": 91,
   "metadata": {},
   "outputs": [],
   "source": [
    "train_model_predictions = train_model.predict(len(train), len(train) + len(test) - 1, typ = 'levels').rename('Test ARIMA Predictions')"
   ]
  },
  {
   "cell_type": "code",
   "execution_count": 92,
   "metadata": {},
   "outputs": [
    {
     "data": {
      "text/plain": [
       "<matplotlib.axes._subplots.AxesSubplot at 0x26e79a25ac8>"
      ]
     },
     "execution_count": 92,
     "metadata": {},
     "output_type": "execute_result"
    },
    {
     "data": {
      "image/png": "[encoded data removed]",
      "text/plain": [
       "<Figure size 864x504 with 1 Axes>"
      ]
     },
     "metadata": {
      "needs_background": "light"
     },
     "output_type": "display_data"
    }
   ],
   "source": [
    "test['Number of Cases'].plot(legend = True)\n",
    "train_model_predictions.plot(legend = True)"
   ]
  },
  {
   "cell_type": "code",
   "execution_count": 239,
   "metadata": {},
   "outputs": [
    {
     "data": {
      "text/plain": [
       "45.333179502560434"
      ]
     },
     "execution_count": 239,
     "metadata": {},
     "output_type": "execute_result"
    }
   ],
   "source": [
    "np.sqrt(mean_squared_error(test['Number of Cases'], train_model_predictions))"
   ]
  },
  {
   "cell_type": "code",
   "execution_count": 240,
   "metadata": {},
   "outputs": [
    {
     "data": {
      "text/plain": [
       "3830.0476190476193"
      ]
     },
     "execution_count": 240,
     "metadata": {},
     "output_type": "execute_result"
    }
   ],
   "source": [
    "test['Number of Cases'].mean()"
   ]
  },
  {
   "cell_type": "code",
   "execution_count": 93,
   "metadata": {},
   "outputs": [],
   "source": [
    "final_cases_model = ARIMA(luxe['Number of Cases'], order = (4,2,2)).fit()"
   ]
  },
  {
   "cell_type": "code",
   "execution_count": 189,
   "metadata": {},
   "outputs": [],
   "source": [
    "final_cases_pred = final_cases_model.predict(len(luxe), len(luxe) + 21, typ = 'levels').rename('COVID - 19 Cases Prediction')"
   ]
  },
  {
   "cell_type": "code",
   "execution_count": 190,
   "metadata": {},
   "outputs": [
    {
     "data": {
      "text/plain": [
       "<matplotlib.axes._subplots.AxesSubplot at 0x26e7f308bc8>"
      ]
     },
     "execution_count": 190,
     "metadata": {},
     "output_type": "execute_result"
    },
    {
     "data": {
      "image/png": "[encoded data removed]",
      "text/plain": [
       "<Figure size 864x504 with 1 Axes>"
      ]
     },
     "metadata": {},
     "output_type": "display_data"
    }
   ],
   "source": [
    "luxe['Number of Cases'].plot(legend = True)\n",
    "final_cases_pred.plot(legend = True)"
   ]
  },
  {
   "cell_type": "code",
   "execution_count": 185,
   "metadata": {},
   "outputs": [
    {
     "data": {
      "text/plain": [
       "2020-05-16    3925.0\n",
       "2020-05-17    3932.0\n",
       "2020-05-18    3945.0\n",
       "2020-05-19    3957.0\n",
       "2020-05-20    3963.0\n",
       "2020-05-21    3969.0\n",
       "2020-05-22    3978.0\n",
       "2020-05-23    3988.0\n",
       "2020-05-24    3999.0\n",
       "2020-05-25    4007.0\n",
       "2020-05-26    4015.0\n",
       "2020-05-27    4023.0\n",
       "2020-05-28    4033.0\n",
       "2020-05-29    4043.0\n",
       "2020-05-30    4053.0\n",
       "Freq: D, Name: COVID - 19 Cases Prediction, dtype: float64"
      ]
     },
     "execution_count": 185,
     "metadata": {},
     "output_type": "execute_result"
    }
   ],
   "source": [
    "round(final_cases_pred)"
   ]
  },
  {
   "cell_type": "markdown",
   "metadata": {},
   "source": [
    "### Deaths Prediction Model"
   ]
  },
  {
   "cell_type": "code",
   "execution_count": 146,
   "metadata": {},
   "outputs": [],
   "source": [
    "death_train = luxe[:-14]\n",
    "death_test = luxe[-14:]"
   ]
  },
  {
   "cell_type": "code",
   "execution_count": 108,
   "metadata": {},
   "outputs": [],
   "source": [
    "from pmdarima import auto_arima"
   ]
  },
  {
   "cell_type": "code",
   "execution_count": 109,
   "metadata": {},
   "outputs": [
    {
     "name": "stdout",
     "output_type": "stream",
     "text": [
      "Performing stepwise search to minimize aic\n",
      "Fit ARIMA(2,2,2)x(0,0,0,0) [intercept=True]; AIC=406.139, BIC=422.503, Time=0.504 seconds\n",
      "Fit ARIMA(0,2,0)x(0,0,0,0) [intercept=True]; AIC=464.367, BIC=469.822, Time=0.016 seconds\n",
      "Fit ARIMA(1,2,0)x(0,0,0,0) [intercept=True]; AIC=424.481, BIC=432.663, Time=0.016 seconds\n",
      "Fit ARIMA(0,2,1)x(0,0,0,0) [intercept=True]; AIC=404.990, BIC=413.172, Time=0.062 seconds\n",
      "Fit ARIMA(0,2,0)x(0,0,0,0) [intercept=False]; AIC=462.370, BIC=465.097, Time=0.016 seconds\n",
      "Fit ARIMA(1,2,1)x(0,0,0,0) [intercept=True]; AIC=406.816, BIC=417.726, Time=0.126 seconds\n",
      "Fit ARIMA(0,2,2)x(0,0,0,0) [intercept=True]; AIC=406.852, BIC=417.762, Time=0.091 seconds\n",
      "Fit ARIMA(1,2,2)x(0,0,0,0) [intercept=True]; AIC=405.419, BIC=419.056, Time=0.193 seconds\n",
      "Total fit time: 1.057 seconds\n"
     ]
    }
   ],
   "source": [
    "auto_ar = auto_arima(luxe['Number of Deaths'], seasonal = False, trace = True)"
   ]
  },
  {
   "cell_type": "code",
   "execution_count": 147,
   "metadata": {},
   "outputs": [],
   "source": [
    "test_model_death = ARIMA(death_train['Number of Deaths'], order = (3,2,4)).fit()"
   ]
  },
  {
   "cell_type": "code",
   "execution_count": 149,
   "metadata": {},
   "outputs": [],
   "source": [
    "test_death_pred = test_model_death.predict(len(death_train), len(death_train) + len(death_test) - 1, typ = 'levels').rename('Test Model Prediction')"
   ]
  },
  {
   "cell_type": "code",
   "execution_count": 238,
   "metadata": {},
   "outputs": [
    {
     "data": {
      "text/plain": [
       "<matplotlib.axes._subplots.AxesSubplot at 0x26e0154f188>"
      ]
     },
     "execution_count": 238,
     "metadata": {},
     "output_type": "execute_result"
    },
    {
     "data": {
      "image/png": "[encoded data removed]",
      "text/plain": [
       "<Figure size 864x504 with 1 Axes>"
      ]
     },
     "metadata": {},
     "output_type": "display_data"
    }
   ],
   "source": [
    "death_test['Number of Deaths'].plot(legend = True)\n",
    "test_death_pred.plot(legend = True)"
   ]
  },
  {
   "cell_type": "code",
   "execution_count": 137,
   "metadata": {},
   "outputs": [],
   "source": [
    "from sklearn.metrics import mean_squared_error"
   ]
  },
  {
   "cell_type": "code",
   "execution_count": 236,
   "metadata": {},
   "outputs": [
    {
     "data": {
      "text/plain": [
       "3.956350421133132"
      ]
     },
     "execution_count": 236,
     "metadata": {},
     "output_type": "execute_result"
    }
   ],
   "source": [
    "np.sqrt(mean_squared_error(death_test['Number of Deaths'], test_death_pred))"
   ]
  },
  {
   "cell_type": "code",
   "execution_count": 237,
   "metadata": {},
   "outputs": [
    {
     "data": {
      "text/plain": [
       "95.9047619047619"
      ]
     },
     "execution_count": 237,
     "metadata": {},
     "output_type": "execute_result"
    }
   ],
   "source": [
    "test['Number of Deaths'].mean()"
   ]
  },
  {
   "cell_type": "code",
   "execution_count": 143,
   "metadata": {},
   "outputs": [
    {
     "data": {
      "text/plain": [
       "2020-04-25     85\n",
       "2020-04-26     88\n",
       "2020-04-27     88\n",
       "2020-04-28     89\n",
       "2020-04-29     89\n",
       "2020-04-30     90\n",
       "2020-05-01     92\n",
       "2020-05-02     92\n",
       "2020-05-03     96\n",
       "2020-05-04     96\n",
       "2020-05-05     96\n",
       "2020-05-06     98\n",
       "2020-05-07    100\n",
       "2020-05-08    100\n",
       "2020-05-09    101\n",
       "2020-05-10    101\n",
       "2020-05-11    101\n",
       "2020-05-12    102\n",
       "2020-05-13    103\n",
       "2020-05-14    103\n",
       "2020-05-15    104\n",
       "Freq: D, Name: Number of Deaths, dtype: int32"
      ]
     },
     "execution_count": 143,
     "metadata": {},
     "output_type": "execute_result"
    }
   ],
   "source": [
    "test['Number of Deaths']"
   ]
  },
  {
   "cell_type": "code",
   "execution_count": 144,
   "metadata": {},
   "outputs": [
    {
     "data": {
      "text/plain": [
       "2020-04-25     87.312989\n",
       "2020-04-26     89.652320\n",
       "2020-04-27     92.017993\n",
       "2020-04-28     94.410008\n",
       "2020-04-29     96.828364\n",
       "2020-04-30     99.273062\n",
       "2020-05-01    101.744103\n",
       "2020-05-02    104.241485\n",
       "2020-05-03    106.765209\n",
       "2020-05-04    109.315274\n",
       "2020-05-05    111.891682\n",
       "2020-05-06    114.494431\n",
       "2020-05-07    117.123523\n",
       "2020-05-08    119.778956\n",
       "2020-05-09    122.460731\n",
       "2020-05-10    125.168848\n",
       "2020-05-11    127.903306\n",
       "2020-05-12    130.664107\n",
       "2020-05-13    133.451249\n",
       "2020-05-14    136.264734\n",
       "2020-05-15    139.104560\n",
       "Freq: D, Name: Test Model Prediction, dtype: float64"
      ]
     },
     "execution_count": 144,
     "metadata": {},
     "output_type": "execute_result"
    }
   ],
   "source": [
    "test_death_pred"
   ]
  },
  {
   "cell_type": "code",
   "execution_count": 155,
   "metadata": {},
   "outputs": [],
   "source": [
    "final_death_model = ARIMA(luxe['Number of Deaths'], order = (3,2,4)).fit()"
   ]
  },
  {
   "cell_type": "code",
   "execution_count": 187,
   "metadata": {},
   "outputs": [],
   "source": [
    "final_death_pred = final_death_model.predict(len(luxe), len(luxe) + 21, typ = 'levels').rename('COVID - 19 Deaths Prediction')"
   ]
  },
  {
   "cell_type": "code",
   "execution_count": 246,
   "metadata": {},
   "outputs": [
    {
     "data": {
      "text/plain": [
       "<matplotlib.axes._subplots.AxesSubplot at 0x26e7ef2dbc8>"
      ]
     },
     "execution_count": 246,
     "metadata": {},
     "output_type": "execute_result"
    },
    {
     "data": {
      "image/png": "[encoded data removed]",
      "text/plain": [
       "<Figure size 864x504 with 1 Axes>"
      ]
     },
     "metadata": {},
     "output_type": "display_data"
    }
   ],
   "source": [
    "luxe['Number of Deaths'].loc['2020-05-01':].plot(legend = True)\n",
    "final_death_pred.plot(legend = True)"
   ]
  },
  {
   "cell_type": "code",
   "execution_count": 245,
   "metadata": {},
   "outputs": [
    {
     "data": {
      "text/plain": [
       "3802"
      ]
     },
     "execution_count": 245,
     "metadata": {},
     "output_type": "execute_result"
    }
   ],
   "source": [
    "luxe['Number of Cases']['2020-05-01']"
   ]
  },
  {
   "cell_type": "code",
   "execution_count": 244,
   "metadata": {},
   "outputs": [
    {
     "data": {
      "text/plain": [
       "2020-05-16    105.0\n",
       "2020-05-17    106.0\n",
       "2020-05-18    107.0\n",
       "2020-05-19    107.0\n",
       "2020-05-20    108.0\n",
       "2020-05-21    109.0\n",
       "2020-05-22    110.0\n",
       "2020-05-23    111.0\n",
       "2020-05-24    111.0\n",
       "2020-05-25    112.0\n",
       "2020-05-26    113.0\n",
       "2020-05-27    114.0\n",
       "2020-05-28    115.0\n",
       "2020-05-29    116.0\n",
       "2020-05-30    116.0\n",
       "2020-05-31    117.0\n",
       "2020-06-01    118.0\n",
       "2020-06-02    119.0\n",
       "2020-06-03    120.0\n",
       "2020-06-04    121.0\n",
       "2020-06-05    122.0\n",
       "2020-06-06    123.0\n",
       "Freq: D, Name: COVID - 19 Deaths Prediction, dtype: float64"
      ]
     },
     "execution_count": 244,
     "metadata": {},
     "output_type": "execute_result"
    }
   ],
   "source": [
    "round(final_death_pred)"
   ]
  },
  {
   "cell_type": "code",
   "execution_count": 191,
   "metadata": {},
   "outputs": [],
   "source": [
    "from datetime import datetime\n",
    "from matplotlib import dates"
   ]
  },
  {
   "cell_type": "code",
   "execution_count": 176,
   "metadata": {},
   "outputs": [],
   "source": [
    "plt.style.use('ggplot')"
   ]
  },
  {
   "cell_type": "code",
   "execution_count": 234,
   "metadata": {},
   "outputs": [
    {
     "data": {
      "image/png": "[encoded data removed]",
      "text/plain": [
       "<Figure size 1296x576 with 2 Axes>"
      ]
     },
     "metadata": {},
     "output_type": "display_data"
    }
   ],
   "source": [
    "fig, axs = plt.subplots(2, figsize = (18,8))\n",
    "#fig.tight_layout(pad = 50.0)\n",
    "fig.subplots_adjust(hspace=30)\n",
    "axs[0].plot(luxe['Number of Cases'], label = 'Number of cases')\n",
    "axs[0].plot(final_cases_pred, label = 'COVID - 19 Predicted Cases')\n",
    "axs[0].axvline(x = datetime(2020,5,4), color = 'black', alpha = 0.5, label = 'Schools reopen')\n",
    "axs[0].set_title('COVID - 19 Predicted Cases')\n",
    "axs[0].set_xlabel('Date')\n",
    "axs[0].legend()\n",
    "axs[0].xaxis.set_major_locator(dates.WeekdayLocator(byweekday = 0))\n",
    "#axs[0].xaxis.set_major_formatter(dates.DateFormatter('%y-%m-%d'))\n",
    "axs[0].tick_params(axis = 'x', labelsize = 8)\n",
    "axs[1].plot(luxe['Number of Deaths'], label = 'Number of deaths')\n",
    "axs[1].plot(final_death_pred, label = 'COVID - 19 Predicted Deaths')\n",
    "axs[1].set_title('COVID - 19 Predicted Deaths')\n",
    "axs[1].axvline(x = datetime(2020,5,4), color = 'black', alpha = 0.5, label = 'Schools reopen')\n",
    "axs[1].legend()\n",
    "axs[1].xaxis.set_major_locator(dates.WeekdayLocator(byweekday = 0))\n",
    "#axs[1].xaxis.set_major_formatter(dates.DateFormatter('%y-%m-%d'))\n",
    "axs[1].tick_params(axis = 'x', labelsize = 8)\n",
    "axs[1].set_xlabel('Date')\n",
    "plt.tight_layout()\n",
    "plt.savefig('COVID-19 Prediction-16_05')"
   ]
  },
  {
   "cell_type": "code",
   "execution_count": 225,
   "metadata": {},
   "outputs": [
    {
     "data": {
      "text/plain": [
       "2020-05-16    105.0\n",
       "2020-05-17    106.0\n",
       "2020-05-18    107.0\n",
       "2020-05-19    107.0\n",
       "2020-05-20    108.0\n",
       "2020-05-21    109.0\n",
       "2020-05-22    110.0\n",
       "2020-05-23    111.0\n",
       "2020-05-24    111.0\n",
       "2020-05-25    112.0\n",
       "2020-05-26    113.0\n",
       "2020-05-27    114.0\n",
       "2020-05-28    115.0\n",
       "2020-05-29    116.0\n",
       "2020-05-30    116.0\n",
       "2020-05-31    117.0\n",
       "2020-06-01    118.0\n",
       "2020-06-02    119.0\n",
       "2020-06-03    120.0\n",
       "2020-06-04    121.0\n",
       "2020-06-05    122.0\n",
       "2020-06-06    123.0\n",
       "Freq: D, Name: COVID - 19 Deaths Prediction, dtype: float64"
      ]
     },
     "execution_count": 225,
     "metadata": {},
     "output_type": "execute_result"
    }
   ],
   "source": [
    "round(final_death_pred)"
   ]
  },
  {
   "cell_type": "code",
   "execution_count": 226,
   "metadata": {},
   "outputs": [
    {
     "data": {
      "text/plain": [
       "2020-05-16    3925.0\n",
       "2020-05-17    3932.0\n",
       "2020-05-18    3945.0\n",
       "2020-05-19    3957.0\n",
       "2020-05-20    3963.0\n",
       "2020-05-21    3969.0\n",
       "2020-05-22    3978.0\n",
       "2020-05-23    3988.0\n",
       "2020-05-24    3999.0\n",
       "2020-05-25    4007.0\n",
       "2020-05-26    4015.0\n",
       "2020-05-27    4023.0\n",
       "2020-05-28    4033.0\n",
       "2020-05-29    4043.0\n",
       "2020-05-30    4053.0\n",
       "2020-05-31    4061.0\n",
       "2020-06-01    4070.0\n",
       "2020-06-02    4080.0\n",
       "2020-06-03    4090.0\n",
       "2020-06-04    4100.0\n",
       "2020-06-05    4109.0\n",
       "2020-06-06    4118.0\n",
       "Freq: D, Name: COVID - 19 Cases Prediction, dtype: float64"
      ]
     },
     "execution_count": 226,
     "metadata": {},
     "output_type": "execute_result"
    }
   ],
   "source": [
    "round(final_cases_pred)"
   ]
  },
  {
   "cell_type": "code",
   "execution_count": 232,
   "metadata": {},
   "outputs": [],
   "source": [
    "final_df = pd.DataFrame([round(final_cases_pred),round(final_death_pred)])"
   ]
  },
  {
   "cell_type": "code",
   "execution_count": 233,
   "metadata": {},
   "outputs": [
    {
     "data": {
      "text/html": [
       "<div>\n",
       "<style scoped>\n",
       "    .dataframe tbody tr th:only-of-type {\n",
       "        vertical-align: middle;\n",
       "    }\n",
       "\n",
       "    .dataframe tbody tr th {\n",
       "        vertical-align: top;\n",
       "    }\n",
       "\n",
       "    .dataframe thead th {\n",
       "        text-align: right;\n",
       "    }\n",
       "</style>\n",
       "<table border=\"1\" class=\"dataframe\">\n",
       "  <thead>\n",
       "    <tr style=\"text-align: right;\">\n",
       "      <th></th>\n",
       "      <th>COVID - 19 Cases Prediction</th>\n",
       "      <th>COVID - 19 Deaths Prediction</th>\n",
       "    </tr>\n",
       "  </thead>\n",
       "  <tbody>\n",
       "    <tr>\n",
       "      <th>2020-05-16</th>\n",
       "      <td>3925.0</td>\n",
       "      <td>105.0</td>\n",
       "    </tr>\n",
       "    <tr>\n",
       "      <th>2020-05-17</th>\n",
       "      <td>3932.0</td>\n",
       "      <td>106.0</td>\n",
       "    </tr>\n",
       "    <tr>\n",
       "      <th>2020-05-18</th>\n",
       "      <td>3945.0</td>\n",
       "      <td>107.0</td>\n",
       "    </tr>\n",
       "    <tr>\n",
       "      <th>2020-05-19</th>\n",
       "      <td>3957.0</td>\n",
       "      <td>107.0</td>\n",
       "    </tr>\n",
       "    <tr>\n",
       "      <th>2020-05-20</th>\n",
       "      <td>3963.0</td>\n",
       "      <td>108.0</td>\n",
       "    </tr>\n",
       "    <tr>\n",
       "      <th>2020-05-21</th>\n",
       "      <td>3969.0</td>\n",
       "      <td>109.0</td>\n",
       "    </tr>\n",
       "    <tr>\n",
       "      <th>2020-05-22</th>\n",
       "      <td>3978.0</td>\n",
       "      <td>110.0</td>\n",
       "    </tr>\n",
       "    <tr>\n",
       "      <th>2020-05-23</th>\n",
       "      <td>3988.0</td>\n",
       "      <td>111.0</td>\n",
       "    </tr>\n",
       "    <tr>\n",
       "      <th>2020-05-24</th>\n",
       "      <td>3999.0</td>\n",
       "      <td>111.0</td>\n",
       "    </tr>\n",
       "    <tr>\n",
       "      <th>2020-05-25</th>\n",
       "      <td>4007.0</td>\n",
       "      <td>112.0</td>\n",
       "    </tr>\n",
       "    <tr>\n",
       "      <th>2020-05-26</th>\n",
       "      <td>4015.0</td>\n",
       "      <td>113.0</td>\n",
       "    </tr>\n",
       "    <tr>\n",
       "      <th>2020-05-27</th>\n",
       "      <td>4023.0</td>\n",
       "      <td>114.0</td>\n",
       "    </tr>\n",
       "    <tr>\n",
       "      <th>2020-05-28</th>\n",
       "      <td>4033.0</td>\n",
       "      <td>115.0</td>\n",
       "    </tr>\n",
       "    <tr>\n",
       "      <th>2020-05-29</th>\n",
       "      <td>4043.0</td>\n",
       "      <td>116.0</td>\n",
       "    </tr>\n",
       "    <tr>\n",
       "      <th>2020-05-30</th>\n",
       "      <td>4053.0</td>\n",
       "      <td>116.0</td>\n",
       "    </tr>\n",
       "    <tr>\n",
       "      <th>2020-05-31</th>\n",
       "      <td>4061.0</td>\n",
       "      <td>117.0</td>\n",
       "    </tr>\n",
       "    <tr>\n",
       "      <th>2020-06-01</th>\n",
       "      <td>4070.0</td>\n",
       "      <td>118.0</td>\n",
       "    </tr>\n",
       "    <tr>\n",
       "      <th>2020-06-02</th>\n",
       "      <td>4080.0</td>\n",
       "      <td>119.0</td>\n",
       "    </tr>\n",
       "    <tr>\n",
       "      <th>2020-06-03</th>\n",
       "      <td>4090.0</td>\n",
       "      <td>120.0</td>\n",
       "    </tr>\n",
       "    <tr>\n",
       "      <th>2020-06-04</th>\n",
       "      <td>4100.0</td>\n",
       "      <td>121.0</td>\n",
       "    </tr>\n",
       "    <tr>\n",
       "      <th>2020-06-05</th>\n",
       "      <td>4109.0</td>\n",
       "      <td>122.0</td>\n",
       "    </tr>\n",
       "    <tr>\n",
       "      <th>2020-06-06</th>\n",
       "      <td>4118.0</td>\n",
       "      <td>123.0</td>\n",
       "    </tr>\n",
       "  </tbody>\n",
       "</table>\n",
       "</div>"
      ],
      "text/plain": [
       "            COVID - 19 Cases Prediction  COVID - 19 Deaths Prediction\n",
       "2020-05-16                       3925.0                         105.0\n",
       "2020-05-17                       3932.0                         106.0\n",
       "2020-05-18                       3945.0                         107.0\n",
       "2020-05-19                       3957.0                         107.0\n",
       "2020-05-20                       3963.0                         108.0\n",
       "2020-05-21                       3969.0                         109.0\n",
       "2020-05-22                       3978.0                         110.0\n",
       "2020-05-23                       3988.0                         111.0\n",
       "2020-05-24                       3999.0                         111.0\n",
       "2020-05-25                       4007.0                         112.0\n",
       "2020-05-26                       4015.0                         113.0\n",
       "2020-05-27                       4023.0                         114.0\n",
       "2020-05-28                       4033.0                         115.0\n",
       "2020-05-29                       4043.0                         116.0\n",
       "2020-05-30                       4053.0                         116.0\n",
       "2020-05-31                       4061.0                         117.0\n",
       "2020-06-01                       4070.0                         118.0\n",
       "2020-06-02                       4080.0                         119.0\n",
       "2020-06-03                       4090.0                         120.0\n",
       "2020-06-04                       4100.0                         121.0\n",
       "2020-06-05                       4109.0                         122.0\n",
       "2020-06-06                       4118.0                         123.0"
      ]
     },
     "execution_count": 233,
     "metadata": {},
     "output_type": "execute_result"
    }
   ],
   "source": [
    "final_df.transpose()"
   ]
  },
  {
   "cell_type": "code",
   "execution_count": null,
   "metadata": {},
   "outputs": [],
   "source": []
  }
 ],
 "metadata": {
  "kernelspec": {
   "display_name": "Python 3",
   "language": "python",
   "name": "python3"
  },
  "language_info": {
   "codemirror_mode": {
    "name": "ipython",
    "version": 3
   },
   "file_extension": ".py",
   "mimetype": "text/x-python",
   "name": "python",
   "nbconvert_exporter": "python",
   "pygments_lexer": "ipython3",
   "version": "3.7.4"
  }
 },
 "nbformat": 4,
 "nbformat_minor": 4
}
